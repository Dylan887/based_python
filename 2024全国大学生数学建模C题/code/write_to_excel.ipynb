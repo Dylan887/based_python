{
 "cells": [
  {
   "cell_type": "markdown",
   "metadata": {},
   "source": [
    "#将种植决策写入表格中"
   ]
  },
  {
   "cell_type": "code",
   "execution_count": null,
   "metadata": {},
   "outputs": [],
   "source": [
    "import pandas as pd\n",
    "exe=pd.read_excel(r\"C:\\\\Users\\\\Lenovo\\Desktop\\2\\\\C题\\\\附件3\\\\result1_2.xlsx\",sheet_name=\"2024\")\n",
    "exe=exe.iloc[54:,:].fillna(0)\n"
   ]
  },
  {
   "cell_type": "code",
   "execution_count": 162,
   "metadata": {},
   "outputs": [],
   "source": [
    "#将文件数据结构进行转换\n",
    "import re\n",
    "import pandas as pd\n",
    "\n",
    "# 读取 result1.txt 文件内容\n",
    "with open('result_21.txt', 'r', encoding='utf-8') as file:\n",
    "    lines = file.readlines()\n",
    "\n",
    "# 使用正则表达式匹配年份和种植信息 (地块名, 季节, 作物, 种植面积)\n",
    "# 正则表达式改为匹配年份，例如：===== 2024 年的种植决策 =====\n",
    "year_pattern = re.compile(r\"===== (\\d{4}) 年的种植决策 =====\")\n",
    "plant_pattern = re.compile(r\"地块 (\\w\\d+) 第(\\d+)季 种植 (\\S+) ([\\d.]+) 亩\")\n",
    "data = []\n",
    "\n",
    "current_year = None\n",
    "\n",
    "# 逐行解析\n",
    "for line in lines:\n",
    "    year_match = year_pattern.search(line)\n",
    "    if year_match:\n",
    "        current_year = int(year_match.group(1))  # 提取年份\n",
    "        continue  # 如果匹配到年份，则跳到下一行继续处理\n",
    "    \n",
    "    match = plant_pattern.search(line)\n",
    "    if match and current_year:\n",
    "        plot = match.group(1)  # 地块名\n",
    "        season = match.group(2)  # 第几季\n",
    "        crop = match.group(3)  # 作物名\n",
    "        area = float(match.group(4))  # 种植面积\n",
    "        data.append([current_year, plot, season, crop, area])\n",
    "\n",
    "# 将数据存储在DataFrame中，并指定列名顺序\n",
    "df_result = pd.DataFrame(data, columns=['年份', '地块名', '季节', '作物名', '种植面积']).reset_index()\n",
    "\n",
    "# 保存为CSV文件\n",
    "df_result.to_csv(\"../re21.csv\", index=False)\n"
   ]
  },
  {
   "cell_type": "code",
   "execution_count": 163,
   "metadata": {},
   "outputs": [],
   "source": [
    "#文件导出\n",
    "res=pd.read_csv(\"../re21.csv\")\n",
    "res=res[res[\"年份\"] == 2030]\n",
    "res=res[res[\"季节\"] == 2]\n",
    "# 遍历 df2，将数据更新到 df1 中\n",
    "for index, row in res.iterrows():\n",
    "    plot = row['地块名']\n",
    "    crop = row['作物名']\n",
    "    area = row['种植面积']\n",
    "    \n",
    "    # 更新 df1 中相应地块名和作物名的值\n",
    "    if crop in exe.columns:\n",
    "        exe.loc[exe['地块名'] == plot, crop] = area\n",
    "exe.to_excel(\"../e_2030_2.xlsx\")"
   ]
  }
 ],
 "metadata": {
  "kernelspec": {
   "display_name": "test",
   "language": "python",
   "name": "python3"
  },
  "language_info": {
   "codemirror_mode": {
    "name": "ipython",
    "version": 3
   },
   "file_extension": ".py",
   "mimetype": "text/x-python",
   "name": "python",
   "nbconvert_exporter": "python",
   "pygments_lexer": "ipython3",
   "version": "3.12.3"
  }
 },
 "nbformat": 4,
 "nbformat_minor": 2
}
